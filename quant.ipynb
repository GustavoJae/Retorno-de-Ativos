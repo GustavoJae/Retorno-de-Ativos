{
 "cells": [
  {
   "cell_type": "code",
   "execution_count": 1,
   "metadata": {},
   "outputs": [],
   "source": [
    "import pandas as pd\n",
    "import pandas_datareader.data as web\n",
    "from datetime import datetime      \n",
    "import yfinance as yf\n",
    "import matplotlib.pyplot\n",
    "import seaborn as sns\n",
    "import numpy as np"
   ]
  },
  {
   "cell_type": "code",
   "execution_count": 10,
   "metadata": {},
   "outputs": [],
   "source": [
    "start = datetime(2020, 1, 1)\n",
    "end = datetime(2023, 1, 1)"
   ]
  },
  {
   "cell_type": "markdown",
   "metadata": {},
   "source": [
    "### Análise Superficial do Retorno Cumulativo Percentual nos ativos da B3"
   ]
  },
  {
   "cell_type": "code",
   "execution_count": 20,
   "metadata": {},
   "outputs": [],
   "source": [
    "def load_ticker(ticker, start, end):\n",
    "    df = yf.download(ticker, start, end)\n",
    "    return df\n",
    "\n",
    "def close_serie(df):\n",
    "    dates = df.index\n",
    "    close = df['Close']\n",
    "    data = pd.DataFrame(close, dates)\n",
    "    return data, dates\n",
    "\n",
    "def load_return(df, dates):\n",
    "    close = df['Close']\n",
    "    anterior = close.iloc[0]\n",
    "    pr_list = []\n",
    "    lr_list = []\n",
    "\n",
    "    cumulative_return_percentual = 1\n",
    "    crp_hist = []\n",
    "\n",
    "    cumulative_log_return = 1\n",
    "    clr_hist = []\n",
    "    for close_value in close:\n",
    "        percentual_return = (close_value/anterior) - 1\n",
    "        cumulative_return_percentual *= (1+percentual_return)\n",
    "\n",
    "        log_return = np.log(close_value) - np.log(anterior)\n",
    "        cumulative_log_return *= (1+log_return)\n",
    "\n",
    "        pr_list.append(percentual_return)\n",
    "        lr_list.append(log_return)\n",
    "        crp_hist.append(cumulative_return_percentual)\n",
    "        clr_hist.append(cumulative_log_return)\n",
    "\n",
    "        anterior = close_value\n",
    "\n",
    "    df_return = pd.DataFrame({'Percentual Return': pr_list}, index=dates)\n",
    "    df_return['Logaritmal Return'] = lr_list\n",
    "    df_return['Cumulative Percentual Return'] = crp_hist\n",
    "    df_return['Cumulative Log Return'] = clr_hist\n",
    "\n",
    "    return df_return, cumulative_return_percentual\n",
    "\n",
    "def load_risk(df, dates):\n",
    "    # std = np.std(np.array(df['Close']))\n",
    "    span = 3\n",
    "    std_df = pd.DataFrame(df['Close'], index=dates)\n",
    "\n",
    "    std_df['Standart Deviation'] = std_df['Close'].rolling(window=3).std()\n",
    "    std_df['EWMA'] = std_df['Close'].ewm(span=span).std()\n",
    "    return std_df"
   ]
  },
  {
   "cell_type": "code",
   "execution_count": 44,
   "metadata": {},
   "outputs": [
    {
     "name": "stderr",
     "output_type": "stream",
     "text": [
      "[*********************100%%**********************]  1 of 1 completed\n",
      "[*********************100%%**********************]  1 of 1 completed\n",
      "[*********************100%%**********************]  1 of 1 completed\n",
      "[*********************100%%**********************]  1 of 1 completed\n",
      "[*********************100%%**********************]  1 of 1 completed\n",
      "[*********************100%%**********************]  1 of 1 completed"
     ]
    },
    {
     "name": "stdout",
     "output_type": "stream",
     "text": [
      "com o capital investido de R$ 1000 com a carteira igualmente distribuida entre os ativos  ['PETR4.SA', 'VALE3.SA', 'ITUB4.SA', 'BBDC4.SA', 'ABEV3.SA', 'MGLU3.SA'] , a perda calculada entre 2020/01/01 a 2023/01/01 é de R$ 232.10705913933532\n"
     ]
    },
    {
     "name": "stderr",
     "output_type": "stream",
     "text": [
      "\n"
     ]
    }
   ],
   "source": [
    "tickers = ['PETR4.SA', 'VALE3.SA', 'ITUB4.SA', 'BBDC4.SA', 'ABEV3.SA', 'MGLU3.SA']\n",
    "carteira = pd.DataFrame(columns=['ticker', 'percentual return'])\n",
    "\n",
    "for ticker in tickers:\n",
    "    df = load_ticker(ticker, start, end)\n",
    "    close_array, dates = close_serie(df)\n",
    "    return_df, return_percentual = load_return(df,dates)\n",
    "    risk_df = load_risk(df, dates)\n",
    "    carteira.loc[len(carteira)] = [ticker, return_percentual]\n",
    "\n",
    "weight = [1/6, 1/6, 1/6, 1/6, 1/6, 1/6]\n",
    "carteira['peso'] = weight\n",
    "carteira['weighted return'] = np.array(weight*np.array(carteira['percentual return']))\n",
    "capital = 1000\n",
    "lucro = np.sum(np.array(carteira['weighted return'])*capital) - capital\n",
    "if lucro > 0:\n",
    "    print('com o capital investido de R$', capital, 'com a carteira igualmente distribuida entre os ativos ',tickers,', o lucro calculado entre 2020/01/01 a 2023/01/01 é de R$', lucro)\n",
    "else:\n",
    "    print('com o capital investido de R$', capital, 'com a carteira igualmente distribuida entre os ativos ',tickers,', a perda calculada entre 2020/01/01 a 2023/01/01 é de R$', np.abs(lucro))\n"
   ]
  }
 ],
 "metadata": {
  "kernelspec": {
   "display_name": "Python 3",
   "language": "python",
   "name": "python3"
  },
  "language_info": {
   "codemirror_mode": {
    "name": "ipython",
    "version": 3
   },
   "file_extension": ".py",
   "mimetype": "text/x-python",
   "name": "python",
   "nbconvert_exporter": "python",
   "pygments_lexer": "ipython3",
   "version": "3.11.9"
  }
 },
 "nbformat": 4,
 "nbformat_minor": 2
}
